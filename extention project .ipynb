{
 "cells": [
  {
   "cell_type": "code",
   "execution_count": 1,
   "id": "97eacf5e",
   "metadata": {},
   "outputs": [
    {
     "name": "stdout",
     "output_type": "stream",
     "text": [
      "Enter the name of the file:material.py\n",
      "py\n"
     ]
    }
   ],
   "source": [
    "name = input(\"Enter the name of the file:\")\n",
    "file_name = name.split(\".\")[0]\n",
    "extention = name.split('.')[-1]\n",
    "print(extention)"
   ]
  },
  {
   "cell_type": "code",
   "execution_count": null,
   "id": "7c1dc9a9",
   "metadata": {},
   "outputs": [],
   "source": []
  }
 ],
 "metadata": {
  "kernelspec": {
   "display_name": "Python 3",
   "language": "python",
   "name": "python3"
  },
  "language_info": {
   "codemirror_mode": {
    "name": "ipython",
    "version": 3
   },
   "file_extension": ".py",
   "mimetype": "text/x-python",
   "name": "python",
   "nbconvert_exporter": "python",
   "pygments_lexer": "ipython3",
   "version": "3.9.0"
  }
 },
 "nbformat": 4,
 "nbformat_minor": 5
}
